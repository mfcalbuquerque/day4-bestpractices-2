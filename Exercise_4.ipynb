{
 "cells": [
  {
   "cell_type": "code",
   "execution_count": 1,
   "id": "41e07c32",
   "metadata": {},
   "outputs": [],
   "source": [
    "import matplotlib"
   ]
  },
  {
   "cell_type": "code",
   "execution_count": 2,
   "id": "e4347076",
   "metadata": {},
   "outputs": [],
   "source": [
    "matplotlib.use(\"GTK3Cairo\")"
   ]
  },
  {
   "cell_type": "code",
   "execution_count": 3,
   "id": "2376dbea",
   "metadata": {},
   "outputs": [],
   "source": [
    "%matplotlib inline"
   ]
  },
  {
   "cell_type": "code",
   "execution_count": 4,
   "id": "c1f627e4",
   "metadata": {},
   "outputs": [],
   "source": [
    "import numpy as np\n",
    "import sys, os\n",
    "from glob import glob"
   ]
  },
  {
   "cell_type": "code",
   "execution_count": 82,
   "id": "cf0b412c",
   "metadata": {},
   "outputs": [],
   "source": [
    "file_list = glob('*.npy', recursive=False)\n",
    "data_exp = np.load(file_list[0])\n",
    "data_mod = np.load(file_list[1])\n",
    "\n",
    "data_exp_vec = data_exp[:,0]\n",
    "data_exp_str = data_exp[:,1]\n",
    "data_mod_vec = data_mod[:,0]\n",
    "data_mod_str = data_mod[:,1]"
   ]
  },
  {
   "cell_type": "code",
   "execution_count": 83,
   "id": "7c5245f1",
   "metadata": {},
   "outputs": [
    {
     "name": "stdout",
     "output_type": "stream",
     "text": [
      "[[ 0.                 nan]\n",
      " [ 0.07302266         nan]\n",
      " [ 0.14604532         nan]\n",
      " [ 0.21906798         nan]\n",
      " [ 0.29209064         nan]\n",
      " [ 0.3651133          nan]\n",
      " [ 0.43813596         nan]\n",
      " [ 0.51115862         nan]\n",
      " [ 0.58418128         nan]\n",
      " [ 0.65720394         nan]\n",
      " [ 0.7302266  14.8734951 ]\n",
      " [ 0.80324926 14.74289227]\n",
      " [ 0.87627192 12.89193344]\n",
      " [ 0.94929458 11.76533413]\n",
      " [ 1.02231724 10.8342104 ]\n",
      " [ 1.0953399   9.53421974]\n",
      " [ 1.16836256  8.985466  ]\n",
      " [ 1.24138522  8.57529068]\n",
      " [ 1.31440788  8.09127808]\n",
      " [ 1.38743054  7.75258827]\n",
      " [ 1.4604532   7.35321283]\n",
      " [ 1.53347585  7.0108552 ]\n",
      " [ 1.60649851  6.80143499]\n",
      " [ 1.67952117  6.56399059]\n",
      " [ 1.75254383  6.33931208]\n",
      " [ 1.82556649  6.29610586]\n",
      " [ 1.89858915  6.25143385]\n",
      " [ 1.97161181  6.13347578]\n",
      " [ 2.04463447  6.13232136]\n",
      " [ 2.11765713  5.95727968]\n",
      " [ 2.19067979  5.98877001]\n",
      " [ 2.26370245  6.14337826]\n",
      " [ 2.33672511  6.02624655]\n",
      " [ 2.40974777  6.07724619]\n",
      " [ 2.48277043  6.25234842]\n",
      " [ 2.55579309  6.09192562]\n",
      " [ 2.62881575  5.92272997]\n",
      " [ 2.70183841  5.885355  ]\n",
      " [ 2.77486107  5.66744089]\n",
      " [ 2.84788373  5.53634405]\n",
      " [ 2.92090639  5.56150341]\n",
      " [ 2.99392905  5.55955267]\n",
      " [ 3.06695171  5.7323761 ]\n",
      " [ 3.13997437  5.89085674]\n",
      " [ 3.21299703  5.89418411]\n",
      " [ 3.28601969  6.0550065 ]\n",
      " [ 3.35904235  6.25737715]\n",
      " [ 3.43206501  6.23433971]\n",
      " [ 3.50508767  6.34774828]\n",
      " [ 3.57811033  6.3860631 ]\n",
      " [ 3.65113299  6.65179825]\n",
      " [ 3.72415565  6.63323975]\n",
      " [ 3.79717831  6.69158792]\n",
      " [ 3.87020097  6.86812878]\n",
      " [ 3.94322363  6.95917892]\n",
      " [ 4.01624629  7.08364725]\n",
      " [ 4.08926895  7.26087999]\n",
      " [ 4.16229161  7.30374146]\n",
      " [ 4.23531427  7.47287655]\n",
      " [ 4.30833693  7.59102106]\n",
      " [ 4.38135959  7.58719587]\n",
      " [ 4.45438225  7.66882896]\n",
      " [ 4.52740491  7.70948219]\n",
      " [ 4.60042756  7.65778208]\n",
      " [ 4.67345022  7.69338703]\n",
      " [ 4.74647288  7.7902236 ]\n",
      " [ 4.81949554  7.90969181]\n",
      " [ 4.8925182   8.06050301]\n",
      " [ 4.96554086  8.23012352]\n",
      " [ 5.03856352  8.35675335]\n",
      " [ 5.11158618  8.60333061]\n",
      " [ 5.18460884  8.62549973]\n",
      " [ 5.2576315   8.74427414]\n",
      " [ 5.33065416  8.94274521]\n",
      " [ 5.40367682  9.15577412]\n",
      " [ 5.47669948  9.36482334]\n",
      " [ 5.54972214  9.59241676]\n",
      " [ 5.6227448   9.7653532 ]\n",
      " [ 5.69576746 10.00464535]\n",
      " [ 5.76879012 10.23804283]\n",
      " [ 5.84181278 10.51538563]\n",
      " [ 5.91483544 10.71848965]\n",
      " [ 5.9878581  10.91770744]\n",
      " [ 6.06088076 11.12268448]\n",
      " [ 6.13390342 11.37843609]\n",
      " [ 6.20692608 11.65935421]\n",
      " [ 6.27994874 11.96905231]\n",
      " [ 6.3529714  12.34692001]\n",
      " [ 6.42599406 12.66400051]\n",
      " [ 6.49901672 13.0760355 ]\n",
      " [ 6.57203938 13.4599514 ]\n",
      " [ 6.64506204 13.84928513]\n",
      " [ 6.7180847  14.26792336]\n",
      " [ 6.79110736 14.66247654]\n",
      " [ 6.86413002 15.07713985]\n",
      " [ 6.93715268 15.50764561]\n",
      " [ 7.01017534 15.80696201]\n",
      " [ 7.083198   16.22505379]\n",
      " [ 7.15622066 16.49827576]\n",
      " [ 7.22924332 16.8623333 ]\n",
      " [ 7.30226598 17.11324501]\n",
      " [ 7.37528864 17.40640068]\n",
      " [ 7.4483113  17.56870079]\n",
      " [ 7.52133396 17.70244217]\n",
      " [ 7.59435662 17.83457565]\n",
      " [ 7.66737927 17.98597336]\n",
      " [ 7.74040193 18.11056709]\n",
      " [ 7.81342459 18.12940979]\n",
      " [ 7.88644725 18.12411118]\n",
      " [ 7.95946991 18.09939194]\n",
      " [ 8.03249257 17.97700882]\n",
      " [ 8.10551523 17.87282753]\n",
      " [ 8.17853789 17.78690338]\n",
      " [ 8.25156055 17.68304825]\n",
      " [ 8.32458321 17.61226845]\n",
      " [ 8.39760587 17.49899101]\n",
      " [ 8.47062853 17.34947395]\n",
      " [ 8.54365119 16.98342323]\n",
      " [ 8.61667385 16.70782089]\n",
      " [ 8.68969651 16.41693306]\n",
      " [ 8.76271917 16.21993256]\n",
      " [ 8.83574183 16.02721596]\n",
      " [ 8.90876449 15.73487949]\n",
      " [ 8.98178715 15.62186813]\n",
      " [ 9.05480981 15.4317627 ]\n",
      " [ 9.12783247 15.26865959]\n",
      " [ 9.20085513 15.23431683]\n",
      " [ 9.27387779 15.04425812]\n",
      " [ 9.34690045 15.0445385 ]\n",
      " [ 9.41992311 15.01723957]\n",
      " [ 9.49294577 14.92465115]\n",
      " [ 9.56596843 14.86433506]\n",
      " [ 9.63899109 14.72982883]\n",
      " [ 9.71201375 14.54940891]\n",
      " [ 9.78503641 14.54825687]\n",
      " [ 9.85805907 14.52290058]\n",
      " [ 9.93108173 14.45559597]\n",
      " [10.00410439 14.53395271]\n",
      " [10.07712705 14.53741455]\n",
      " [10.15014971 14.57109737]\n",
      " [10.22317237 14.66534901]\n",
      " [10.29619503 14.73944187]\n",
      " [10.36921769 14.93395042]\n",
      " [10.44224035 15.01856709]\n",
      " [10.51526301 15.09688377]\n",
      " [10.58828567 15.20312881]\n",
      " [10.66130833 15.23260403]\n",
      " [10.73433098 15.57357311]\n",
      " [10.80735364 15.78856468]\n",
      " [10.8803763  16.0266304 ]\n",
      " [10.95339896 16.19125557]\n",
      " [11.02642162 16.46161079]\n",
      " [11.09944428 16.73215866]\n",
      " [11.17246694 17.07252884]\n",
      " [11.2454896  17.28591919]\n",
      " [11.31851226 17.45009804]\n",
      " [11.39153492 17.66340828]\n",
      " [11.46455758 17.88439178]\n",
      " [11.53758024 18.11998558]\n",
      " [11.6106029  18.23241806]\n",
      " [11.68362556 18.4166317 ]\n",
      " [11.75664822 18.61986542]\n",
      " [11.82967088 18.99310112]\n",
      " [11.90269354 19.3841877 ]\n",
      " [11.9757162  19.81735802]\n",
      " [12.04873886 20.18454552]\n",
      " [12.12176152 20.43111038]\n",
      " [12.19478418 21.1951828 ]\n",
      " [12.26780684 21.31585693]\n",
      " [12.3408295  21.84165764]\n",
      " [12.41385216 22.27651787]\n",
      " [12.48687482 22.91773415]\n",
      " [12.55989748 23.40706062]\n",
      " [12.63292014 23.92602348]\n",
      " [12.7059428  24.58073235]\n",
      " [12.77896546 25.08777046]\n",
      " [12.85198812 25.8469429 ]\n",
      " [12.92501078 26.47760773]\n",
      " [12.99803344 27.05173874]\n",
      " [13.0710561  27.78621292]\n",
      " [13.14407876 28.40692139]\n",
      " [13.21710142 28.97550583]\n",
      " [13.29012408 29.59997559]\n",
      " [13.36314674 30.4586277 ]\n",
      " [13.4361694  31.13450623]\n",
      " [13.50919206 31.94631386]\n",
      " [13.58221472 32.65951538]\n",
      " [13.65523738 33.26549149]\n",
      " [13.72826004 33.86692047]\n",
      " [13.80128269 34.41132736]\n",
      " [13.87430535 34.84908676]\n",
      " [13.94732801 35.16482544]\n",
      " [14.02035067 35.49372482]\n",
      " [14.09337333 35.76385117]\n",
      " [14.16639599 35.61058426]\n",
      " [14.23941865 35.83716202]\n",
      " [14.31244131 35.82089615]\n",
      " [14.38546397 35.72877502]\n",
      " [14.45848663 35.40496445]\n",
      " [14.53150929 35.07614899]\n",
      " [14.60453195 34.68033218]\n",
      " [14.67755461 34.14634705]\n",
      " [14.75057727 33.60735321]\n",
      " [14.82359993 33.03061295]\n",
      " [14.89662259 32.31128693]\n",
      " [14.96964525 31.59732437]\n",
      " [15.04266791 30.86596489]\n",
      " [15.11569057 30.10468292]\n",
      " [15.18871323 29.42505074]\n",
      " [15.26173589 28.60379601]\n",
      " [15.33475855 27.74607468]\n",
      " [15.40778121 27.11272049]\n",
      " [15.48080387 26.24383354]\n",
      " [15.55382653 25.45736313]\n",
      " [15.62684919 24.73907661]\n",
      " [15.69987185 24.20954323]\n",
      " [15.77289451 23.60672379]\n",
      " [15.84591717 22.94154739]\n",
      " [15.91893983 22.50809288]\n",
      " [15.99196249 21.87162781]\n",
      " [16.06498515 21.35046577]\n",
      " [16.13800781 20.8615284 ]\n",
      " [16.21103047 20.38044167]\n",
      " [16.28405313 20.01173782]\n",
      " [16.35707579 19.4526825 ]\n",
      " [16.43009845 19.17018509]\n",
      " [16.50312111 18.86548805]\n",
      " [16.57614377 18.59409523]\n",
      " [16.64916643 18.18535614]\n",
      " [16.72218909 17.90345573]\n",
      " [16.79521175 17.61570358]\n",
      " [16.8682344  17.2951107 ]\n",
      " [16.94125706 17.00175476]\n",
      " [17.01427972 16.77680588]\n",
      " [17.08730238 16.3771286 ]\n",
      " [17.16032504 16.0473423 ]\n",
      " [17.2333477  15.87738895]\n",
      " [17.30637036 15.62176514]\n",
      " [17.37939302 15.22379398]\n",
      " [17.45241568 14.94336414]\n",
      " [17.52543834 14.56646347]\n",
      " [17.598461   14.36704254]\n",
      " [17.67148366 14.10485554]\n",
      " [17.74450632 13.87163734]\n",
      " [17.81752898 13.57056522]\n",
      " [17.89055164 13.37226582]\n",
      " [17.9635743  13.26614285]\n",
      " [18.03659696 12.93093872]\n",
      " [18.10961962 13.11365318]\n",
      " [18.18264228 13.19136715]\n",
      " [18.25566494 13.50227737]\n",
      " [18.3286876  13.81057453]\n",
      " [18.40171026 13.80477142]\n",
      " [18.47473292 15.74316406]\n",
      " [18.54775558         nan]\n",
      " [18.62077824         nan]]\n",
      "(256, 2)\n"
     ]
    }
   ],
   "source": [
    "print(data_exp)\n",
    "print(data_exp.shape)"
   ]
  },
  {
   "cell_type": "code",
   "execution_count": 84,
   "id": "2a7f7e9f",
   "metadata": {},
   "outputs": [
    {
     "name": "stdout",
     "output_type": "stream",
     "text": [
      "[ 0.7302266   0.80324926  0.87627192  0.94929458  1.02231724  1.0953399\n",
      "  1.16836256  1.24138522  1.31440788  1.38743054  1.4604532   1.53347585\n",
      "  1.60649851  1.67952117  1.75254383  1.82556649  1.89858915  1.97161181\n",
      "  2.04463447  2.11765713  2.19067979  2.26370245  2.33672511  2.40974777\n",
      "  2.48277043  2.55579309  2.62881575  2.70183841  2.77486107  2.84788373\n",
      "  2.92090639  2.99392905  3.06695171  3.13997437  3.21299703  3.28601969\n",
      "  3.35904235  3.43206501  3.50508767  3.57811033  3.65113299  3.72415565\n",
      "  3.79717831  3.87020097  3.94322363  4.01624629  4.08926895  4.16229161\n",
      "  4.23531427  4.30833693  4.38135959  4.45438225  4.52740491  4.60042756\n",
      "  4.67345022  4.74647288  4.81949554  4.8925182   4.96554086  5.03856352\n",
      "  5.11158618  5.18460884  5.2576315   5.33065416  5.40367682  5.47669948\n",
      "  5.54972214  5.6227448   5.69576746  5.76879012  5.84181278  5.91483544\n",
      "  5.9878581   6.06088076  6.13390342  6.20692608  6.27994874  6.3529714\n",
      "  6.42599406  6.49901672  6.57203938  6.64506204  6.7180847   6.79110736\n",
      "  6.86413002  6.93715268  7.01017534  7.083198    7.15622066  7.22924332\n",
      "  7.30226598  7.37528864  7.4483113   7.52133396  7.59435662  7.66737927\n",
      "  7.74040193  7.81342459  7.88644725  7.95946991  8.03249257  8.10551523\n",
      "  8.17853789  8.25156055  8.32458321  8.39760587  8.47062853  8.54365119\n",
      "  8.61667385  8.68969651  8.76271917  8.83574183  8.90876449  8.98178715\n",
      "  9.05480981  9.12783247  9.20085513  9.27387779  9.34690045  9.41992311\n",
      "  9.49294577  9.56596843  9.63899109  9.71201375  9.78503641  9.85805907\n",
      "  9.93108173 10.00410439 10.07712705 10.15014971 10.22317237 10.29619503\n",
      " 10.36921769 10.44224035 10.51526301 10.58828567 10.66130833 10.73433098\n",
      " 10.80735364 10.8803763  10.95339896 11.02642162 11.09944428 11.17246694\n",
      " 11.2454896  11.31851226 11.39153492 11.46455758 11.53758024 11.6106029\n",
      " 11.68362556 11.75664822 11.82967088 11.90269354 11.9757162  12.04873886\n",
      " 12.12176152 12.19478418 12.26780684 12.3408295  12.41385216 12.48687482\n",
      " 12.55989748 12.63292014 12.7059428  12.77896546 12.85198812 12.92501078\n",
      " 12.99803344 13.0710561  13.14407876 13.21710142 13.29012408 13.36314674\n",
      " 13.4361694  13.50919206 13.58221472 13.65523738 13.72826004 13.80128269\n",
      " 13.87430535 13.94732801 14.02035067 14.09337333 14.16639599 14.23941865\n",
      " 14.31244131 14.38546397 14.45848663 14.53150929 14.60453195 14.67755461\n",
      " 14.75057727 14.82359993 14.89662259 14.96964525 15.04266791 15.11569057\n",
      " 15.18871323 15.26173589 15.33475855 15.40778121 15.48080387 15.55382653\n",
      " 15.62684919 15.69987185 15.77289451 15.84591717 15.91893983 15.99196249\n",
      " 16.06498515 16.13800781 16.21103047 16.28405313 16.35707579 16.43009845\n",
      " 16.50312111 16.57614377 16.64916643 16.72218909 16.79521175 16.8682344\n",
      " 16.94125706 17.01427972 17.08730238 17.16032504 17.2333477  17.30637036\n",
      " 17.37939302 17.45241568 17.52543834 17.598461   17.67148366 17.74450632\n",
      " 17.81752898 17.89055164 17.9635743  18.03659696 18.10961962 18.18264228\n",
      " 18.25566494 18.3286876  18.40171026 18.47473292]\n",
      "(244,)\n"
     ]
    }
   ],
   "source": [
    "data_exp_str_nonnan = data_exp_str[~np.isnan(data_exp_str)]\n",
    "data_exp_vec_nonnan = data_exp_vec[~np.isnan(data_exp_str)]\n",
    "\n",
    "print(data_exp_vec_nonnan)\n",
    "print(data_exp_vec_nonnan.shape)"
   ]
  },
  {
   "cell_type": "code",
   "execution_count": 77,
   "id": "ce215e22",
   "metadata": {},
   "outputs": [
    {
     "data": {
      "text/plain": [
       "8805.050404467689"
      ]
     },
     "execution_count": 77,
     "metadata": {},
     "output_type": "execute_result"
    }
   ],
   "source": [
    "max_exp_str = data_exp_str_nonnan.max()\n",
    "max_mod_str = data_mod_str.max()\n",
    "\n",
    "scale_factor = max_mod_str / max_exp_str\n",
    "scale_factor"
   ]
  },
  {
   "cell_type": "code",
   "execution_count": 85,
   "id": "cb17ca4e",
   "metadata": {},
   "outputs": [
    {
     "data": {
      "text/plain": [
       "array([ 0.        ,  5.48463373,  6.04161142,  4.40112015,  8.72337325,\n",
       "       12.75621465, 15.39502269, 15.89169342, 12.26913241, 17.33657935,\n",
       "       29.07904177, 35.83716202, 27.02986596, 17.26072965, 13.17690158,\n",
       "       10.26724197, 10.0395051 ,  8.18745002,  7.33581714,  6.99903962,\n",
       "        6.53829557,  5.78587347,  5.40378192,  4.65750182,  4.66903483,\n",
       "        4.52860023,  4.17626655,  4.00250689,  3.51019456,  3.25417498,\n",
       "        2.86493564,  2.5332541 ,  2.39937723,  2.36008451,  2.1326695 ,\n",
       "        1.93447593,  1.92565183,  1.84893044,  1.84159491,  1.82339688,\n",
       "        1.73168257,  1.75890586,  1.71365888,  1.66729883,  1.60460481,\n",
       "        1.44102371,  1.39208885,  1.29152362])"
      ]
     },
     "execution_count": 85,
     "metadata": {},
     "output_type": "execute_result"
    }
   ],
   "source": [
    "resc_mod_str = data_mod_str / scale_factor\n"
   ]
  },
  {
   "cell_type": "code",
   "execution_count": 86,
   "id": "05c6a56a",
   "metadata": {},
   "outputs": [
    {
     "data": {
      "text/plain": [
       "(48,)"
      ]
     },
     "execution_count": 86,
     "metadata": {},
     "output_type": "execute_result"
    }
   ],
   "source": [
    "resc_mod_str.shape"
   ]
  },
  {
   "cell_type": "code",
   "execution_count": 9,
   "id": "bd2ed031",
   "metadata": {},
   "outputs": [
    {
     "name": "stdout",
     "output_type": "stream",
     "text": [
      "[[0.00000000e+00 0.00000000e+00]\n",
      " [1.25664000e+00 4.82924765e+04]\n",
      " [2.51327000e+00 5.31966931e+04]\n",
      " [3.76991000e+00 3.87520848e+04]\n",
      " [5.02655000e+00 7.68097411e+04]\n",
      " [6.28319000e+00 1.12319113e+05]\n",
      " [7.53982000e+00 1.35553951e+05]\n",
      " [8.79646000e+00 1.39927162e+05]\n",
      " [1.00531000e+01 1.08030329e+05]\n",
      " [1.13097300e+01 1.52649455e+05]\n",
      " [1.25663700e+01 2.56042428e+05]\n",
      " [1.38230100e+01 3.15548018e+05]\n",
      " [1.50796400e+01 2.37999332e+05]\n",
      " [1.63362800e+01 1.51981595e+05]\n",
      " [1.75929200e+01 1.16023283e+05]\n",
      " [1.88495600e+01 9.04035830e+04]\n",
      " [2.01061900e+01 8.83983485e+04]\n",
      " [2.13628300e+01 7.20909101e+04]\n",
      " [2.26194700e+01 6.45922397e+04]\n",
      " [2.38761000e+01 6.16268966e+04]\n",
      " [2.51327400e+01 5.75700221e+04]\n",
      " [2.63893800e+01 5.09449075e+04]\n",
      " [2.76460200e+01 4.75805722e+04]\n",
      " [2.89026500e+01 4.10095382e+04]\n",
      " [3.01592900e+01 4.11110870e+04]\n",
      " [3.14159300e+01 3.98745533e+04]\n",
      " [3.26725600e+01 3.67722374e+04]\n",
      " [3.39292000e+01 3.52422749e+04]\n",
      " [3.51858400e+01 3.09074400e+04]\n",
      " [3.64424700e+01 2.86531747e+04]\n",
      " [3.76991100e+01 2.52259027e+04]\n",
      " [3.89557500e+01 2.23054301e+04]\n",
      " [4.02123900e+01 2.11266374e+04]\n",
      " [4.14690200e+01 2.07806630e+04]\n",
      " [4.27256600e+01 1.87782624e+04]\n",
      " [4.39823000e+01 1.70331581e+04]\n",
      " [4.52389300e+01 1.69554614e+04]\n",
      " [4.64955700e+01 1.62799258e+04]\n",
      " [4.77522100e+01 1.62153360e+04]\n",
      " [4.90088500e+01 1.60551014e+04]\n",
      " [5.02654800e+01 1.52475523e+04]\n",
      " [5.15221200e+01 1.54872547e+04]\n",
      " [5.27787600e+01 1.50888528e+04]\n",
      " [5.40353900e+01 1.46806502e+04]\n",
      " [5.52920300e+01 1.41286262e+04]\n",
      " [5.65486700e+01 1.26882864e+04]\n",
      " [5.78053000e+01 1.22574125e+04]\n",
      " [5.90619400e+01 1.13719306e+04]]\n",
      "(48, 2)\n"
     ]
    }
   ],
   "source": [
    "print(data_mod)\n",
    "print(data_mod.shape)"
   ]
  },
  {
   "cell_type": "code",
   "execution_count": 13,
   "id": "3311ab9d",
   "metadata": {},
   "outputs": [],
   "source": [
    "import matplotlib.pyplot as plt\n",
    "%matplotlib inline"
   ]
  },
  {
   "cell_type": "code",
   "execution_count": 14,
   "id": "d3436d68",
   "metadata": {},
   "outputs": [
    {
     "data": {
      "text/plain": [
       "<matplotlib.collections.PathCollection at 0x7f6ed65d1f70>"
      ]
     },
     "execution_count": 14,
     "metadata": {},
     "output_type": "execute_result"
    },
    {
     "data": {
      "image/png": "[encoded data removed]",
      "text/plain": [
       "<Figure size 432x288 with 1 Axes>"
      ]
     },
     "metadata": {
      "needs_background": "light"
     },
     "output_type": "display_data"
    }
   ],
   "source": [
    "plt.scatter(data_exp_vec, data_exp_str)"
   ]
  },
  {
   "cell_type": "code",
   "execution_count": 87,
   "id": "5f169eeb",
   "metadata": {},
   "outputs": [
    {
     "data": {
      "text/plain": [
       "(0.0, 20.0)"
      ]
     },
     "execution_count": 87,
     "metadata": {},
     "output_type": "execute_result"
    },
    {
     "data": {
      "image/png": "[encoded data removed]",
      "text/plain": [
       "<Figure size 432x288 with 1 Axes>"
      ]
     },
     "metadata": {
      "needs_background": "light"
     },
     "output_type": "display_data"
    }
   ],
   "source": [
    "plt.scatter(data_mod_vec, resc_mod_str)\n",
    "plt.xlim([0,20])"
   ]
  },
  {
   "cell_type": "code",
   "execution_count": 102,
   "id": "11584eea",
   "metadata": {},
   "outputs": [],
   "source": [
    "def lorenzian(x, amp1, cen1, wid1, amp2, cen2, wid2, amp3, cen3, wid3):\n",
    "    return (amp1*wid1**2/((x-cen1)**2+wid1**2)) + (amp2*wid2**2/((x-cen2)**2+wid2**2)) + (amp3*wid3**2/((x-cen3)**2+wid3**2))"
   ]
  },
  {
   "cell_type": "code",
   "execution_count": 103,
   "id": "288536b7",
   "metadata": {},
   "outputs": [],
   "source": [
    "from scipy import optimize"
   ]
  },
  {
   "cell_type": "code",
   "execution_count": 104,
   "id": "883b4fc0",
   "metadata": {},
   "outputs": [],
   "source": [
    "params, covar = optimize.curve_fit(lorenzian, data_mod_vec, resc_mod_str, p0=[5, 2, 0.5, 15, 8, 0.5, 30, 15, 5])"
   ]
  },
  {
   "cell_type": "code",
   "execution_count": 105,
   "id": "d4fb7253",
   "metadata": {},
   "outputs": [
    {
     "data": {
      "text/plain": [
       "array([ 1.60413401e+04,  1.87457531e+00, -7.55003782e-03,  9.08844406e+00,\n",
       "        6.97552339e+00,  1.27320316e+00,  3.06649872e+01,  1.39007123e+01,\n",
       "        3.73988165e+00])"
      ]
     },
     "execution_count": 105,
     "metadata": {},
     "output_type": "execute_result"
    }
   ],
   "source": [
    "params"
   ]
  },
  {
   "cell_type": "code",
   "execution_count": 106,
   "id": "beed2ff8",
   "metadata": {},
   "outputs": [
    {
     "data": {
      "text/plain": [
       "array([[ 9.24052828e+17,  7.97615827e+07,  2.21182270e+11,\n",
       "        -5.79745988e+08, -3.87239617e+07,  3.69101464e+08,\n",
       "        -1.60217349e+08,  2.46119498e+07, -1.55196527e+06],\n",
       "       [ 7.97615827e+07,  6.76580594e-02,  1.90917405e+01,\n",
       "        -1.07109307e-02, -3.00657776e-03,  1.40627875e-02,\n",
       "        -7.48358610e-03,  4.25865732e-04,  1.63865143e-03],\n",
       "       [ 2.21182270e+11,  1.90917405e+01,  5.29424241e+04,\n",
       "        -1.38770518e+02, -9.26904149e+00,  8.83491559e+01,\n",
       "        -3.83503268e+01,  5.89116825e+00, -3.71404928e-01],\n",
       "       [-5.79745988e+08, -1.07109307e-02, -1.38770518e+02,\n",
       "         1.36026166e+01, -1.62698687e-01, -2.69119902e+00,\n",
       "         1.12993648e+00, -1.07422151e-01,  7.49996856e-04],\n",
       "       [-3.87239617e+07, -3.00657776e-03, -9.26904149e+00,\n",
       "        -1.62698687e-01,  1.46314971e-01,  8.44714419e-02,\n",
       "        -2.06728059e-02,  2.31058142e-02, -3.00673625e-02],\n",
       "       [ 3.69101464e+08,  1.40627875e-02,  8.83491559e+01,\n",
       "        -2.69119902e+00,  8.44714419e-02,  1.10123729e+00,\n",
       "        -2.34398740e-01,  1.28843710e-01, -1.74484613e-01],\n",
       "       [-1.60217349e+08, -7.48358610e-03, -3.83503268e+01,\n",
       "         1.12993648e+00, -2.06728059e-02, -2.34398740e-01,\n",
       "         2.95071018e+00, -5.72973793e-03, -3.62261612e-01],\n",
       "       [ 2.46119498e+07,  4.25865732e-04,  5.89116825e+00,\n",
       "        -1.07422151e-01,  2.31058142e-02,  1.28843710e-01,\n",
       "        -5.72973793e-03,  6.48026297e-02, -3.72492252e-02],\n",
       "       [-1.55196527e+06,  1.63865143e-03, -3.71404928e-01,\n",
       "         7.49996856e-04, -3.00673625e-02, -1.74484613e-01,\n",
       "        -3.62261612e-01, -3.72492252e-02,  1.50269098e-01]])"
      ]
     },
     "execution_count": 106,
     "metadata": {},
     "output_type": "execute_result"
    }
   ],
   "source": [
    "covar"
   ]
  },
  {
   "cell_type": "code",
   "execution_count": 107,
   "id": "f210f3e7",
   "metadata": {},
   "outputs": [
    {
     "data": {
      "text/plain": [
       "<matplotlib.legend.Legend at 0x7f6eca658a30>"
      ]
     },
     "execution_count": 107,
     "metadata": {},
     "output_type": "execute_result"
    },
    {
     "data": {
      "image/png": "[encoded data removed]",
      "text/plain": [
       "<Figure size 432x288 with 1 Axes>"
      ]
     },
     "metadata": {
      "needs_background": "light"
     },
     "output_type": "display_data"
    }
   ],
   "source": [
    "fig,ax = plt.subplots()\n",
    "ax.scatter(data_mod_vec, resc_mod_str, label='rescaled raw data')\n",
    "ax.plot(data_mod_vec, lorenzian(data_mod_vec, *params), 'r', label='Lorentzian fit')\n",
    "ax.set_xlabel(\"Scattering vector (arb units)\")\n",
    "ax.set_ylabel(\"Signal strength (arb units)\")\n",
    "ax.set_title(\"Fitting over the model\")\n",
    "ax.set_xlim([0,20])\n",
    "plt.legend()"
   ]
  },
  {
   "cell_type": "code",
   "execution_count": 108,
   "id": "3c1767be",
   "metadata": {},
   "outputs": [],
   "source": [
    "from scipy.interpolate import interp1d\n",
    "\n",
    "interp = interp1d(data_exp_vec_nonnan, lorenzian(data_mod_vec, ))"
   ]
  },
  {
   "cell_type": "code",
   "execution_count": 109,
   "id": "ac800c25",
   "metadata": {},
   "outputs": [
    {
     "data": {
      "text/plain": [
       "<matplotlib.legend.Legend at 0x7f6eca6c25e0>"
      ]
     },
     "execution_count": 109,
     "metadata": {},
     "output_type": "execute_result"
    },
    {
     "data": {
      "image/png": "[encoded data removed]",
      "text/plain": [
       "<Figure size 432x288 with 1 Axes>"
      ]
     },
     "metadata": {
      "needs_background": "light"
     },
     "output_type": "display_data"
    }
   ],
   "source": [
    "fig,ax = plt.subplots()\n",
    "ax.scatter(data_exp_vec_nonnan, data_exp_str_nonnan, label='expr. data')\n",
    "ax.plot(data_exp_vec_nonnan, exper_optimized, 'r', label='Lorentzian fit')\n",
    "ax.set_xlabel(\"Scattering vector (arb units)\")\n",
    "ax.set_ylabel(\"Signal strength (arb units)\")\n",
    "ax.set_title(\"Fitting over the exp. data\")\n",
    "plt.legend()"
   ]
  },
  {
   "cell_type": "code",
   "execution_count": null,
   "id": "bfc709e9",
   "metadata": {},
   "outputs": [],
   "source": []
  },
  {
   "cell_type": "code",
   "execution_count": null,
   "id": "b3929a32",
   "metadata": {},
   "outputs": [],
   "source": []
  }
 ],
 "metadata": {
  "kernelspec": {
   "display_name": "Python 3 (ipykernel)",
   "language": "python",
   "name": "python3"
  },
  "language_info": {
   "codemirror_mode": {
    "name": "ipython",
    "version": 3
   },
   "file_extension": ".py",
   "mimetype": "text/x-python",
   "name": "python",
   "nbconvert_exporter": "python",
   "pygments_lexer": "ipython3",
   "version": "3.8.10"
  }
 },
 "nbformat": 4,
 "nbformat_minor": 5
}
